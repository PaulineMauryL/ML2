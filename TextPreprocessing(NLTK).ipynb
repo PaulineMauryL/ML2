{
 "cells": [
  {
   "cell_type": "markdown",
   "metadata": {},
   "source": [
    "# Text Processing \n",
    "\n",
    "This notebook provides a function that removes unnecessary characters such as stop words or punctuation from the tweets received in the dataset."
   ]
  },
  {
   "cell_type": "markdown",
   "metadata": {},
   "source": [
    "## 1. Importations"
   ]
  },
  {
   "cell_type": "code",
   "execution_count": 1,
   "metadata": {},
   "outputs": [],
   "source": [
    "import numpy as np\n",
    "import pandas as pd\n",
    "import re\n",
    "from our_functionsv3 import read_data\n",
    "import nltk\n",
    "from nltk.corpus import stopwords\n",
    "from nltk.tokenize import word_tokenize, sent_tokenize, TweetTokenizer"
   ]
  },
  {
   "cell_type": "code",
   "execution_count": 2,
   "metadata": {},
   "outputs": [],
   "source": [
    "%load_ext autoreload\n",
    "%autoreload 2\n",
    "%matplotlib inline"
   ]
  },
  {
   "cell_type": "markdown",
   "metadata": {},
   "source": [
    "### 2. Load data"
   ]
  },
  {
   "cell_type": "code",
   "execution_count": 17,
   "metadata": {},
   "outputs": [],
   "source": [
    "train_pos = read_data(\"twitter-datasets/train_pos.txt\")\n",
    "train_neg = read_data(\"twitter-datasets/train_neg.txt\")\n",
    "\n",
    "pos = pd.DataFrame(train_pos, columns=[\"tweet\"],dtype='object')\n",
    "neg = pd.DataFrame(train_neg, columns=[\"tweet\"])"
   ]
  },
  {
   "cell_type": "code",
   "execution_count": 4,
   "metadata": {},
   "outputs": [],
   "source": [
    "test = read_data(\"twitter-datasets/test_data.txt\")\n",
    "test_pd = pd.DataFrame(test, columns=[\"tweet\"])"
   ]
  },
  {
   "cell_type": "code",
   "execution_count": 5,
   "metadata": {},
   "outputs": [],
   "source": [
    "#train_pos_full = read_data(\"twitter-datasets/train_pos_full.txt\")\n",
    "#train_neg_full = read_data(\"twitter-datasets/train_neg_full.txt\")\n",
    "\n",
    "#pos_full = pd.DataFrame(train_pos_full, columns=[\"tweet\"])\n",
    "#neg_full = pd.DataFrame(train_neg_full, columns=[\"tweet\"])"
   ]
  },
  {
   "cell_type": "markdown",
   "metadata": {},
   "source": [
    "## 3. Obtain stop words\n",
    "\n",
    "In this case, the stop words are only selected from the english dictionnary, but some words are kept: \"not\" or some of them that can be useful to detect pos or neg."
   ]
  },
  {
   "cell_type": "code",
   "execution_count": 5,
   "metadata": {},
   "outputs": [],
   "source": [
    "#stop_words = list(get_stop_words('en'))         \n",
    "nltk_words = list(stopwords.words('english')) \n",
    "#stop_words.extend(nltk_words)"
   ]
  },
  {
   "cell_type": "code",
   "execution_count": 6,
   "metadata": {},
   "outputs": [],
   "source": [
    "nltk_words = ['i', 'me', 'my', 'myself', 'we', 'our', 'ours', 'ourselves', 'you', \"you're\", \"you've\", \"you'll\", \"you'd\", 'your', 'yours', 'yourself', 'yourselves', 'he', 'him', 'his', 'himself', 'she', \"she's\", 'her', 'hers', 'herself', 'it', \"it's\", 'its', 'itself', 'they', 'them', 'their', 'theirs', 'themselves', 'what', 'which', 'who', 'whom', 'this', 'that', \"that'll\", 'these', 'those', 'am', 'is', 'are', 'was', 'were', 'be', 'been', 'being', 'have', 'has', 'had', 'having', 'do', 'does', 'did', 'doing', 'a', 'an', 'the', 'and', 'if', 'or', 'because', 'as', 'while', 'of', 'at', 'by', 'for', 'with', 'about', 'against', 'between', 'into', 'through', 'during', 'before', 'after', 'above', 'below', 'to', 'from', 'up', 'down', 'in', 'out', 'on', 'over', 'under', 'again', 'further', 'then', 'once', 'here', 'there', 'when', 'where', 'why', 'how', 'all', 'any', 'both', 'each', 'few', 'more', 'most', 'other', 'some', 'such', 'only', 'own', 'same', 'so', 'than', 'very', 's', 't', 'can', 'will', 'just', 'don', \"don't\", 'should', \"should've\", 'now', 'd', 'll', 'm', 'o', 're', 've', 'y', 'ain', 'aren', \"aren't\", 'couldn', \"couldn't\", 'didn', \"didn't\", 'doesn', \"doesn't\", 'hadn', \"hadn't\", 'hasn', \"hasn't\", 'haven', \"haven't\", 'isn', \"isn't\", 'ma', 'mightn', \"mightn't\", 'mustn', \"mustn't\", 'needn', \"needn't\", 'shan', \"shan't\", 'shouldn', \"shouldn't\", 'wasn', \"wasn't\", 'weren', \"weren't\", 'won', \"won't\", 'wouldn', \"wouldn't\"]"
   ]
  },
  {
   "cell_type": "markdown",
   "metadata": {},
   "source": [
    "### 4.2 PreProcessTweets function"
   ]
  },
  {
   "cell_type": "code",
   "execution_count": 14,
   "metadata": {},
   "outputs": [],
   "source": [
    "def pre_process_tweets(data):\n",
    "    \n",
    "    # make a copy to be sure that data itself is not changed and that we can compare it later.\n",
    "    data2=data.copy()\n",
    "    \n",
    "    # change n't into not to keep this information. Without it, the words with n't would just be erased.\n",
    "    data2[\"tweet\"] = data2[\"tweet\"].str.replace(\"n't\", \" not\")\n",
    "    \n",
    "    # go into preprocessing to separate all words and punctuation\n",
    "    data2[\"tweet\"] = data2[\"tweet\"].apply(lambda x: preprocess1(x))\n",
    "    \n",
    "    # reconstruct the #\n",
    "    data2[\"tweet\"] = data2[\"tweet\"].str.replace(\"# \", \"#\")\n",
    "    \n",
    "    # go into preprocessing\n",
    "    data2[\"tweet\"] = data2[\"tweet\"].apply(lambda y: preprocess2(y))\n",
    "    \n",
    "    return data2"
   ]
  },
  {
   "cell_type": "code",
   "execution_count": 22,
   "metadata": {},
   "outputs": [],
   "source": [
    "def preprocess1(tweet):\n",
    "    # this tweet tokenizer is used to separate each words and ponctuation in a sentence\n",
    "    output = [x.strip().lower() for x in nltk.word_tokenize(tweet)]\n",
    "    \n",
    "    return \" \".join(output)"
   ]
  },
  {
   "cell_type": "code",
   "execution_count": 28,
   "metadata": {},
   "outputs": [],
   "source": [
    "def preprocess2(tweet):\n",
    "    \n",
    "    \n",
    "    tknzr = TweetTokenizer(strip_handles=True)\n",
    "    words = [x.strip().lower() for x in tknzr.tokenize(tweet)]\n",
    "\n",
    "    # erase all the words that contains a ponctuation or other special signs but keep the one with an #\n",
    "    words = [word for word in words if (word.isalpha() or word.startswith(\"#\"))]\n",
    "    \n",
    "    # erase all the words contained in the nltk_words = the stopwords defined earlier\n",
    "    output = [w for w in words if not w in nltk_words]\n",
    "    \n",
    "    return \" \".join(output)"
   ]
  },
  {
   "cell_type": "code",
   "execution_count": 29,
   "metadata": {},
   "outputs": [],
   "source": [
    "train_essai = pre_process_tweets(pos[:10][:])"
   ]
  },
  {
   "cell_type": "code",
   "execution_count": 30,
   "metadata": {},
   "outputs": [
    {
     "name": "stdout",
     "output_type": "stream",
     "text": [
      "['<user> i dunno justin read my mention or not . only justin and god knows about that , but i hope you will follow me #believe 15', \"because your logic is so dumb , i won't even crop out your name or your photo . tsk . <url>\", '\" <user> just put casper in a box ! \" looved the battle ! #crakkbitch', \"<user> <user> thanks sir > > don't trip lil mama ... just keep doin ya thang !\", 'visiting my brother tmr is the bestest birthday gift eveerrr ! ! !', '<user> yay ! ! #lifecompleted . tweet / facebook me to let me know please', '<user> #1dnextalbumtitle : feel for you / rollercoaster of life . song cocept : life , #yolo , becoming famous ? <3 14 #followmeplz ! <3 x15', \"workin hard or hardly workin rt <user> at hardee's with my future coworker <user>\", \"<user> i saw . i'll be replying in a bit .\", 'this is were i belong']\n",
      "                                               tweet\n",
      "0  <user> i dunno justin read my mention or not ....\n",
      "1  because your logic is so dumb , i won't even c...\n",
      "2  \" <user> just put casper in a box ! \" looved t...\n",
      "3  <user> <user> thanks sir > > don't trip lil ma...\n",
      "4  visiting my brother tmr is the bestest birthda...\n",
      "5  <user> yay ! ! #lifecompleted . tweet / facebo...\n",
      "6  <user> #1dnextalbumtitle : feel for you / roll...\n",
      "7  workin hard or hardly workin rt <user> at hard...\n",
      "8         <user> i saw . i'll be replying in a bit .\n",
      "9                              this is were i belong\n",
      "                                               tweet\n",
      "0  user dunno justin read mention not justin god ...\n",
      "1     logic dumb wo not even crop name photo tsk url\n",
      "2      user put casper box looved battle #crakkbitch\n",
      "3  user user thanks sir not trip lil mama keep do...\n",
      "4  visiting brother tmr bestest birthday gift eve...\n",
      "5  user yay #lifecompleted tweet facebook let kno...\n",
      "6  user #1dnextalbumtitle feel rollercoaster life...\n",
      "7  workin hard hardly workin rt user hardee futur...\n",
      "8                              user saw replying bit\n",
      "9                                             belong\n"
     ]
    }
   ],
   "source": [
    "print(train_pos[:10])\n",
    "print(pos[:10][:])\n",
    "print(train_essai)"
   ]
  },
  {
   "cell_type": "code",
   "execution_count": 151,
   "metadata": {},
   "outputs": [],
   "source": [
    "train_pos_preprocessed = pre_process_tweets(pos)\n",
    "train_neg_preprocessed = pre_process_tweets(neg)\n",
    "\n",
    "train_pos_preprocessed.to_csv('twitter-datasets/train_pos_preprocessed_new.txt', header=None, index=False, sep='\\t')\n",
    "train_neg_preprocessed.to_csv('twitter-datasets/train_neg_preprocessed_new.txt', header=None, index=False, sep='\\t')"
   ]
  },
  {
   "cell_type": "code",
   "execution_count": null,
   "metadata": {},
   "outputs": [],
   "source": []
  }
 ],
 "metadata": {
  "kernelspec": {
   "display_name": "Python 3",
   "language": "python",
   "name": "python3"
  },
  "language_info": {
   "codemirror_mode": {
    "name": "ipython",
    "version": 3
   },
   "file_extension": ".py",
   "mimetype": "text/x-python",
   "name": "python",
   "nbconvert_exporter": "python",
   "pygments_lexer": "ipython3",
   "version": "3.6.5"
  }
 },
 "nbformat": 4,
 "nbformat_minor": 2
}
