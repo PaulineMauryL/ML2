{
 "cells": [
  {
   "cell_type": "code",
   "execution_count": 1,
   "metadata": {},
   "outputs": [],
   "source": [
    "%load_ext autoreload\n",
    "%autoreload 2\n",
    "%matplotlib inline"
   ]
  },
  {
   "cell_type": "code",
   "execution_count": 2,
   "metadata": {},
   "outputs": [
    {
     "name": "stderr",
     "output_type": "stream",
     "text": [
      "Using TensorFlow backend.\n"
     ]
    }
   ],
   "source": [
    "import numpy as np\n",
    "import pandas as pd\n",
    "from our_functionsv3 import *\n",
    "\n",
    "import tensorflow.keras as keras\n",
    "from tensorflow import set_random_seed\n",
    "set_random_seed(0)\n",
    "from keras.models import Model\n",
    "from keras.layers import Dense, Input, Dropout, LSTM, Activation\n",
    "from keras.layers.embeddings import Embedding\n",
    "from keras.preprocessing import sequence\n",
    "from keras.initializers import glorot_uniform\n",
    "from keras.callbacks import EarlyStopping\n",
    "from keras import regularizers\n",
    "import time\n",
    "import matplotlib\n",
    "import matplotlib.pyplot as plt"
   ]
  },
  {
   "cell_type": "code",
   "execution_count": 3,
   "metadata": {},
   "outputs": [],
   "source": [
    "from LSTM_functions import *"
   ]
  },
  {
   "cell_type": "code",
   "execution_count": 13,
   "metadata": {},
   "outputs": [],
   "source": [
    "from keras.layers import Dense, Conv2D, MaxPooling2D, Dropout, Flatten"
   ]
  },
  {
   "cell_type": "markdown",
   "metadata": {},
   "source": [
    "### Load data"
   ]
  },
  {
   "cell_type": "code",
   "execution_count": 14,
   "metadata": {},
   "outputs": [],
   "source": [
    "X_train, Y_train = get_data(pos = \"twitter-datasets/train_pos_preprocessed_to_use.txt\", neg = \"twitter-datasets/train_neg_preprocessed_to_use.txt\")\n",
    "Y_train_oh = convert_to_one_hot(Y_train, C=2)"
   ]
  },
  {
   "cell_type": "code",
   "execution_count": 15,
   "metadata": {},
   "outputs": [],
   "source": [
    "ids, _ = get_test_data(\"twitter-datasets/test_data.txt\")\n",
    "X_test = read_data(\"twitter-datasets/test_preprocessed_to_use.txt\")"
   ]
  },
  {
   "cell_type": "code",
   "execution_count": 16,
   "metadata": {},
   "outputs": [],
   "source": [
    "word_to_index, index_to_word, word_to_vec_map = read_glove_vecs_only_alpha('dictionnary/glove.twitter.27B.200d.txt')"
   ]
  },
  {
   "cell_type": "markdown",
   "metadata": {},
   "source": [
    "### Converts an array of sentences (strings) into an array of indices corresponding to words in the sentences"
   ]
  },
  {
   "cell_type": "code",
   "execution_count": 17,
   "metadata": {},
   "outputs": [],
   "source": [
    "max_length = get_max_length(X_train)"
   ]
  },
  {
   "cell_type": "code",
   "execution_count": 18,
   "metadata": {},
   "outputs": [
    {
     "name": "stdout",
     "output_type": "stream",
     "text": [
      "37711 words were not in the dictionary\n",
      "1898 words were not in the dictionary\n"
     ]
    }
   ],
   "source": [
    "X_train_indices = sentences_to_indices(X_train, word_to_index, max_length)\n",
    "X_test_indices = sentences_to_indices(X_test, word_to_index, max_length)"
   ]
  },
  {
   "cell_type": "markdown",
   "metadata": {},
   "source": [
    "### Model"
   ]
  },
  {
   "cell_type": "code",
   "execution_count": 19,
   "metadata": {},
   "outputs": [],
   "source": [
    "def smiley_LSTM_improved(input_shape, word_to_vec_map, word_to_index, dropout_rate, hidden_layers, reg, l1_lambda, l2_lambda):\n",
    "    \n",
    "    if reg=='l2':\n",
    "        regularizer = regularizers.l2(l2_lambda)\n",
    "    elif reg=='l1':\n",
    "        regularizer = regularizers.l1(l1_lambda)\n",
    "    else:\n",
    "        regularizer = None\n",
    "        \n",
    "    # Define sentence_indices as the input of the graph, it should be of shape input_shape and dtype 'int32' (as it contains indices).\n",
    "    sentence_indices = Input(shape = input_shape, dtype = 'int32')\n",
    "    \n",
    "    # Create the embedding layer pretrained with GloVe Vectors (≈1 line)\n",
    "    embedding_layer = pretrained_embedding_layer(word_to_vec_map, word_to_index)\n",
    "    \n",
    "    # Propagate sentence_indices through your embedding layer, you get back the embeddings\n",
    "    embeddings = embedding_layer(sentence_indices)\n",
    "    \n",
    "    X = Conv2D(32, kernel_size=(3, 3), activation='relu') (embeddings)\n",
    "    X = MaxPooling2D(pool_size=(2, 2)) (X)\n",
    "    X = Conv2D(64, (3, 3), activation='relu') (X)\n",
    "    X = Dropout(0.5)(X)\n",
    "    X = Dense(128, activation='relu')\n",
    "    X = Dropout(0.5)(X)    \n",
    "    \n",
    "    # Propagate the embeddings through an LSTM layer with 128-dimensional hidden state\n",
    "    '''\n",
    "    X = LSTM(32, return_sequences = True, return_state = False, kernel_regularizer=regularizer)(X)\n",
    "    X = Dropout(0.5)(X) \n",
    "    X = LSTM(32, return_sequences = True, return_state = False, kernel_regularizer=regularizer)(X)\n",
    "    X = Dropout(0.5)(X)   \n",
    "    X = LSTM(32, return_sequences = False, return_state = False)(X)\n",
    "    X = Dropout(0.5)(X)\n",
    "    '''\n",
    "    \n",
    "    # Propagate X through a Dense layer with softmax activation to get back a batch of 2-dimensional vectors.\n",
    "    X = Dense(2)(X)\n",
    "    \n",
    "    # Add a softmax activation\n",
    "    X = Activation('softmax')(X)\n",
    "\n",
    "    # Create Model instance which converts sentence_indices into X.\n",
    "    model = Model(inputs = sentence_indices, outputs = X)\n",
    "    \n",
    "    return model"
   ]
  },
  {
   "cell_type": "code",
   "execution_count": 20,
   "metadata": {},
   "outputs": [],
   "source": [
    "def complete_model_improved(X_train_indices, Y_train_oh, word_to_vec_map, word_to_index, max_length, summary = False, dropout_rate = 0.25, batch_size = 128, \n",
    "                   epochs = 50, loss ='categorical_crossentropy', optimizer ='adam', hidden_layers = 1, \n",
    "                            reg = '', l1_lambda = 0, l2_lambda = 0):\n",
    "    \n",
    "    model = smiley_LSTM_improved((max_length,), word_to_vec_map, word_to_index, dropout_rate, hidden_layers, reg, l1_lambda, l2_lambda)\n",
    "    \n",
    "    if summary:\n",
    "        model.summary()\n",
    "        \n",
    "    model.compile(loss=loss, optimizer=optimizer, metrics=['accuracy'])\n",
    "    \n",
    "    earlystop = EarlyStopping(monitor='val_acc', min_delta=0.0001, patience=3, verbose=1, mode='auto')\n",
    "    callbacks_list = [earlystop]\n",
    "    \n",
    "    start = time.time()\n",
    "    history_lstm = model.fit(X_train_indices, Y_train_oh, epochs = 50, callbacks=callbacks_list, batch_size = 32, validation_split = 0.1, shuffle=True)\n",
    "    end = time.time()\n",
    "    print(\"Model took {} seconds (which is {} minutes or {} hours) to train\".format((end - start), (end - start)/60, (end - start)/3600))\n",
    "    \n",
    "    return history_lstm, model"
   ]
  },
  {
   "cell_type": "code",
   "execution_count": null,
   "metadata": {},
   "outputs": [],
   "source": []
  },
  {
   "cell_type": "code",
   "execution_count": 21,
   "metadata": {},
   "outputs": [
    {
     "ename": "KeyboardInterrupt",
     "evalue": "",
     "output_type": "error",
     "traceback": [
      "\u001b[1;31m---------------------------------------------------------------------------\u001b[0m",
      "\u001b[1;31mKeyboardInterrupt\u001b[0m                         Traceback (most recent call last)",
      "\u001b[1;32m<ipython-input-21-ea95f1426fc6>\u001b[0m in \u001b[0;36m<module>\u001b[1;34m\u001b[0m\n\u001b[0;32m      2\u001b[0m \u001b[1;32mfor\u001b[0m \u001b[0ml2\u001b[0m \u001b[1;32min\u001b[0m \u001b[0ml2_lambda\u001b[0m\u001b[1;33m:\u001b[0m\u001b[1;33m\u001b[0m\u001b[1;33m\u001b[0m\u001b[0m\n\u001b[0;32m      3\u001b[0m     history, model = complete_model_improved(X_train_indices, Y_train_oh, word_to_vec_map, word_to_index, max_length, summary = True, dropout_rate = 50, batch_size = 128, epochs = 50, loss ='categorical_crossentropy', \n\u001b[1;32m----> 4\u001b[1;33m                                              optimizer = 'adam', hidden_layers = 0, reg = 'l2', l1_lambda = 0, l2_lambda = l2)\n\u001b[0m\u001b[0;32m      5\u001b[0m     \u001b[0mlabel\u001b[0m \u001b[1;33m=\u001b[0m \u001b[0mpredict_lstm\u001b[0m\u001b[1;33m(\u001b[0m\u001b[0mmodel\u001b[0m\u001b[1;33m,\u001b[0m \u001b[0mX_test_indices\u001b[0m\u001b[1;33m)\u001b[0m\u001b[1;33m\u001b[0m\u001b[1;33m\u001b[0m\u001b[0m\n\u001b[0;32m      6\u001b[0m     \u001b[0mpath\u001b[0m \u001b[1;33m=\u001b[0m \u001b[1;34m'submissions/submission_model_cnn.csv'\u001b[0m\u001b[1;33m\u001b[0m\u001b[1;33m\u001b[0m\u001b[0m\n",
      "\u001b[1;32m<ipython-input-20-de4c20a66eca>\u001b[0m in \u001b[0;36mcomplete_model_improved\u001b[1;34m(X_train_indices, Y_train_oh, word_to_vec_map, word_to_index, max_length, summary, dropout_rate, batch_size, epochs, loss, optimizer, hidden_layers, reg, l1_lambda, l2_lambda)\u001b[0m\n\u001b[0;32m      3\u001b[0m                             reg = '', l1_lambda = 0, l2_lambda = 0):\n\u001b[0;32m      4\u001b[0m \u001b[1;33m\u001b[0m\u001b[0m\n\u001b[1;32m----> 5\u001b[1;33m     \u001b[0mmodel\u001b[0m \u001b[1;33m=\u001b[0m \u001b[0msmiley_LSTM_improved\u001b[0m\u001b[1;33m(\u001b[0m\u001b[1;33m(\u001b[0m\u001b[0mmax_length\u001b[0m\u001b[1;33m,\u001b[0m\u001b[1;33m)\u001b[0m\u001b[1;33m,\u001b[0m \u001b[0mword_to_vec_map\u001b[0m\u001b[1;33m,\u001b[0m \u001b[0mword_to_index\u001b[0m\u001b[1;33m,\u001b[0m \u001b[0mdropout_rate\u001b[0m\u001b[1;33m,\u001b[0m \u001b[0mhidden_layers\u001b[0m\u001b[1;33m,\u001b[0m \u001b[0mreg\u001b[0m\u001b[1;33m,\u001b[0m \u001b[0ml1_lambda\u001b[0m\u001b[1;33m,\u001b[0m \u001b[0ml2_lambda\u001b[0m\u001b[1;33m)\u001b[0m\u001b[1;33m\u001b[0m\u001b[1;33m\u001b[0m\u001b[0m\n\u001b[0m\u001b[0;32m      6\u001b[0m \u001b[1;33m\u001b[0m\u001b[0m\n\u001b[0;32m      7\u001b[0m     \u001b[1;32mif\u001b[0m \u001b[0msummary\u001b[0m\u001b[1;33m:\u001b[0m\u001b[1;33m\u001b[0m\u001b[1;33m\u001b[0m\u001b[0m\n",
      "\u001b[1;32m<ipython-input-19-9581fbe67e60>\u001b[0m in \u001b[0;36msmiley_LSTM_improved\u001b[1;34m(input_shape, word_to_vec_map, word_to_index, dropout_rate, hidden_layers, reg, l1_lambda, l2_lambda)\u001b[0m\n\u001b[0;32m     12\u001b[0m \u001b[1;33m\u001b[0m\u001b[0m\n\u001b[0;32m     13\u001b[0m     \u001b[1;31m# Create the embedding layer pretrained with GloVe Vectors (≈1 line)\u001b[0m\u001b[1;33m\u001b[0m\u001b[1;33m\u001b[0m\u001b[1;33m\u001b[0m\u001b[0m\n\u001b[1;32m---> 14\u001b[1;33m     \u001b[0membedding_layer\u001b[0m \u001b[1;33m=\u001b[0m \u001b[0mpretrained_embedding_layer\u001b[0m\u001b[1;33m(\u001b[0m\u001b[0mword_to_vec_map\u001b[0m\u001b[1;33m,\u001b[0m \u001b[0mword_to_index\u001b[0m\u001b[1;33m)\u001b[0m\u001b[1;33m\u001b[0m\u001b[1;33m\u001b[0m\u001b[0m\n\u001b[0m\u001b[0;32m     15\u001b[0m \u001b[1;33m\u001b[0m\u001b[0m\n\u001b[0;32m     16\u001b[0m     \u001b[1;31m# Propagate sentence_indices through your embedding layer, you get back the embeddings\u001b[0m\u001b[1;33m\u001b[0m\u001b[1;33m\u001b[0m\u001b[1;33m\u001b[0m\u001b[0m\n",
      "\u001b[1;32m~\\ML2\\LSTM_functions.py\u001b[0m in \u001b[0;36mpretrained_embedding_layer\u001b[1;34m(word_to_vec_map, word_to_index)\u001b[0m\n\u001b[0;32m    106\u001b[0m     \u001b[1;31m#print(len(word_to_vec_map))\u001b[0m\u001b[1;33m\u001b[0m\u001b[1;33m\u001b[0m\u001b[1;33m\u001b[0m\u001b[0m\n\u001b[0;32m    107\u001b[0m     \u001b[1;32mfor\u001b[0m \u001b[0mword\u001b[0m\u001b[1;33m,\u001b[0m \u001b[0mindex\u001b[0m \u001b[1;32min\u001b[0m \u001b[0mword_to_index\u001b[0m\u001b[1;33m.\u001b[0m\u001b[0mitems\u001b[0m\u001b[1;33m(\u001b[0m\u001b[1;33m)\u001b[0m\u001b[1;33m:\u001b[0m\u001b[1;33m\u001b[0m\u001b[1;33m\u001b[0m\u001b[0m\n\u001b[1;32m--> 108\u001b[1;33m         \u001b[0memb_matrix\u001b[0m\u001b[1;33m[\u001b[0m\u001b[0mindex\u001b[0m\u001b[1;33m,\u001b[0m \u001b[1;33m:\u001b[0m\u001b[1;33m]\u001b[0m \u001b[1;33m=\u001b[0m \u001b[0mword_to_vec_map\u001b[0m\u001b[1;33m[\u001b[0m\u001b[0mword\u001b[0m\u001b[1;33m]\u001b[0m\u001b[1;33m\u001b[0m\u001b[1;33m\u001b[0m\u001b[0m\n\u001b[0m\u001b[0;32m    109\u001b[0m \u001b[1;33m\u001b[0m\u001b[0m\n\u001b[0;32m    110\u001b[0m     \u001b[1;31m# Define Keras embedding layer with the correct output/input sizes, make it trainable. Use Embedding(...). Make sure to set trainable=False.\u001b[0m\u001b[1;33m\u001b[0m\u001b[1;33m\u001b[0m\u001b[1;33m\u001b[0m\u001b[0m\n",
      "\u001b[1;31mKeyboardInterrupt\u001b[0m: "
     ]
    }
   ],
   "source": [
    "l2_lambda = [0]\n",
    "for l2 in l2_lambda:\n",
    "    history, model = complete_model_improved(X_train_indices, Y_train_oh, word_to_vec_map, word_to_index, max_length, summary = True, dropout_rate = 50, batch_size = 128, epochs = 50, loss ='categorical_crossentropy', \n",
    "                                             optimizer = 'adam', hidden_layers = 0, reg = 'l2', l1_lambda = 0, l2_lambda = l2)\n",
    "    label = predict_lstm(model, X_test_indices)\n",
    "    path = 'submissions/submission_model_cnn.csv'\n",
    "    create_csv_submission(ids, label, path)"
   ]
  },
  {
   "cell_type": "code",
   "execution_count": null,
   "metadata": {},
   "outputs": [],
   "source": []
  }
 ],
 "metadata": {
  "kernelspec": {
   "display_name": "Python 3",
   "language": "python",
   "name": "python3"
  },
  "language_info": {
   "codemirror_mode": {
    "name": "ipython",
    "version": 3
   },
   "file_extension": ".py",
   "mimetype": "text/x-python",
   "name": "python",
   "nbconvert_exporter": "python",
   "pygments_lexer": "ipython3",
   "version": "3.6.7"
  }
 },
 "nbformat": 4,
 "nbformat_minor": 2
}
