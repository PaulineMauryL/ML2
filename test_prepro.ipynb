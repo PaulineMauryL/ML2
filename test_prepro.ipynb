{
 "cells": [
  {
   "cell_type": "markdown",
   "metadata": {},
   "source": [
    "# Text Processing \n",
    "\n",
    "This notebook provides a function that removes unnecessary characters such as stop words or punctuation from the tweets received in the dataset."
   ]
  },
  {
   "cell_type": "markdown",
   "metadata": {},
   "source": [
    "## 1. Importations"
   ]
  },
  {
   "cell_type": "code",
   "execution_count": 1,
   "metadata": {},
   "outputs": [],
   "source": [
    "#nltk.download()\n"
   ]
  },
  {
   "cell_type": "code",
   "execution_count": 2,
   "metadata": {},
   "outputs": [],
   "source": [
    "#DAND CE FICHIER JE FAIS PLEIN DE TESTS\n",
    "# J'analyse les smileys\n",
    "\n",
    "import numpy as np\n",
    "import pandas as pd\n",
    "import re\n",
    "from our_functionsv3 import read_data\n",
    "import nltk\n",
    "from nltk.corpus import stopwords\n",
    "from nltk.tokenize import word_tokenize, sent_tokenize, TweetTokenizer"
   ]
  },
  {
   "cell_type": "code",
   "execution_count": 3,
   "metadata": {},
   "outputs": [],
   "source": [
    "%load_ext autoreload\n",
    "%autoreload 2\n",
    "%matplotlib inline"
   ]
  },
  {
   "cell_type": "markdown",
   "metadata": {},
   "source": [
    "### 2. Load data"
   ]
  },
  {
   "cell_type": "code",
   "execution_count": 99,
   "metadata": {},
   "outputs": [],
   "source": [
    "train_pos = read_data(\"twitter-datasets/train_pos.txt\")\n",
    "train_neg = read_data(\"twitter-datasets/train_neg.txt\")\n",
    "\n",
    "pos = pd.DataFrame(train_pos, columns=[\"tweet\"])\n",
    "neg = pd.DataFrame(train_neg, columns=[\"tweet\"])"
   ]
  },
  {
   "cell_type": "code",
   "execution_count": 100,
   "metadata": {},
   "outputs": [],
   "source": [
    "test = read_data(\"twitter-datasets/test_data.txt\")\n",
    "test_pd = pd.DataFrame(test, columns=[\"tweet\"])"
   ]
  },
  {
   "cell_type": "code",
   "execution_count": 5,
   "metadata": {},
   "outputs": [],
   "source": [
    "#train_pos_full = read_data(\"twitter-datasets/train_pos_full.txt\")\n",
    "#train_neg_full = read_data(\"twitter-datasets/train_neg_full.txt\")\n",
    "\n",
    "#pos_full = pd.DataFrame(train_pos_full, columns=[\"tweet\"])\n",
    "#neg_full = pd.DataFrame(train_neg_full, columns=[\"tweet\"])"
   ]
  },
  {
   "cell_type": "markdown",
   "metadata": {},
   "source": [
    "## 3. Obtain stop words\n",
    "\n",
    "In this case, the stop words are only selected from the english dictionnary, but some words are kept: \"not\" or some of them that can be useful to detect pos or neg."
   ]
  },
  {
   "cell_type": "code",
   "execution_count": 6,
   "metadata": {},
   "outputs": [],
   "source": [
    "#stop_words = list(get_stop_words('en'))         \n",
    "nltk_words = list(stopwords.words('english')) \n",
    "#stop_words.extend(nltk_words)"
   ]
  },
  {
   "cell_type": "code",
   "execution_count": 7,
   "metadata": {},
   "outputs": [],
   "source": [
    "nltk_words = ['i', 'me', 'my', 'myself', 'we', 'our', 'ours', 'ourselves', 'you', \"you're\", \"you've\", \"you'll\", \"you'd\", 'your', 'yours', 'yourself', 'yourselves', 'he', 'him', 'his', 'himself', 'she', \"she's\", 'her', 'hers', 'herself', 'it', \"it's\", 'its', 'itself', 'they', 'them', 'their', 'theirs', 'themselves', 'what', 'which', 'who', 'whom', 'this', 'that', \"that'll\", 'these', 'those', 'am', 'is', 'are', 'was', 'were', 'be', 'been', 'being', 'have', 'has', 'had', 'having', 'do', 'does', 'did', 'doing', 'a', 'an', 'the', 'and', 'if', 'or', 'because', 'as', 'while', 'of', 'at', 'by', 'for', 'with', 'about', 'against', 'between', 'into', 'through', 'during', 'before', 'after', 'above', 'below', 'to', 'from', 'up', 'down', 'in', 'out', 'on', 'over', 'under', 'again', 'further', 'then', 'once', 'here', 'there', 'when', 'where', 'why', 'how', 'all', 'any', 'both', 'each', 'few', 'more', 'most', 'other', 'some', 'such', 'only', 'own', 'same', 'so', 'than', 'very', 's', 't', 'can', 'will', 'just', 'don', \"don't\", 'should', \"should've\", 'now', 'd', 'll', 'm', 'o', 're', 've', 'y', 'ain', 'aren', \"aren't\", 'couldn', \"couldn't\", 'didn', \"didn't\", 'doesn', \"doesn't\", 'hadn', \"hadn't\", 'hasn', \"hasn't\", 'haven', \"haven't\", 'isn', \"isn't\", 'ma', 'mightn', \"mightn't\", 'mustn', \"mustn't\", 'needn', \"needn't\", 'shan', \"shan't\", 'shouldn', \"shouldn't\", 'wasn', \"wasn't\", 'weren', \"weren't\", 'won', \"won't\", 'wouldn', \"wouldn't\"]"
   ]
  },
  {
   "cell_type": "markdown",
   "metadata": {},
   "source": [
    "### 4.2 PreProcessTweets function"
   ]
  },
  {
   "cell_type": "code",
   "execution_count": 93,
   "metadata": {},
   "outputs": [],
   "source": [
    "def pre_process_tweets(data):\n",
    "    \n",
    "    # make a copy to be sure that data itself is not changed and that we can compare it later.\n",
    "    data2=data.copy()\n",
    "    \n",
    "    # change n't into not to keep this information. Without it, the words with n't would just be erased.\n",
    "    data2[\"tweet\"] = data2[\"tweet\"].str.replace(\"n't\", \" not\")\n",
    "    \n",
    "    #Assimilate smileys to words\n",
    "    data2 = pre_process_smiley(data2)\n",
    "    \n",
    "    # go into preprocessing to separate all words and punctuation\n",
    "    data2[\"tweet\"] = data2[\"tweet\"].apply(lambda x: preprocess1(x))\n",
    "    \n",
    "    # reconstruct the #\n",
    "    data2[\"tweet\"] = data2[\"tweet\"].str.replace(\"# \", \"#\")\n",
    "    \n",
    "    # go into preprocessing\n",
    "    data2[\"tweet\"] = data2[\"tweet\"].apply(lambda y: preprocess2(y))\n",
    "    \n",
    "    return data2"
   ]
  },
  {
   "cell_type": "code",
   "execution_count": 94,
   "metadata": {},
   "outputs": [],
   "source": [
    "def preprocess1(tweet):\n",
    "    # this tweet tokenizer is used to separate each words and ponctuation in a sentence\n",
    "    output = [x.strip().lower() for x in nltk.word_tokenize(tweet)]\n",
    "    \n",
    "    return \" \".join(output)"
   ]
  },
  {
   "cell_type": "code",
   "execution_count": 95,
   "metadata": {},
   "outputs": [],
   "source": [
    "def preprocess2(tweet):\n",
    "    \n",
    "    \n",
    "    tknzr = TweetTokenizer(strip_handles=True)\n",
    "    words = [x.strip().lower() for x in tknzr.tokenize(tweet)]\n",
    "\n",
    "    # erase all the words that contains a ponctuation or other special signs but keep the one with an #\n",
    "    #words = [word for word in words if (word.isalpha() or word.startswith(\"#\"))]\n",
    "    \n",
    "    # erase all the words contained in the nltk_words = the stopwords defined earlier\n",
    "    output = [w for w in words if not w in nltk_words]\n",
    "    \n",
    "    return \" \".join(output)"
   ]
  },
  {
   "cell_type": "code",
   "execution_count": 96,
   "metadata": {},
   "outputs": [],
   "source": [
    "def pre_process_smiley(data):\n",
    "    \"\"\"replace the smileys by words corresponding to their meaning\n",
    "    Example :\n",
    "    <3 --> love\n",
    "    =) --> happy\n",
    "    etc.\n",
    "    \"\"\"\n",
    "    \n",
    "    #===================================================================\n",
    "    # Watch out : the order in which we do the replacements matters !!!!\n",
    "    #===================================================================\n",
    "    \n",
    "    #key words\n",
    "    love = ' love '\n",
    "    kiss = ' kiss '\n",
    "    happy =  ' happy '\n",
    "    sad = ' sad '\n",
    "    \n",
    "    #special caracters\n",
    "    data[\"tweet\"] = data[\"tweet\"].str.replace('<3', love)\n",
    "    \n",
    "    #smiley kiss\n",
    "    data[\"tweet\"] = data[\"tweet\"].str.replace(':\\*\\( \\{ \\} \\)', kiss) #or maybe nothing\n",
    "    data[\"tweet\"] = data[\"tweet\"].str.replace(\":\\*\\(\", sad)\n",
    "    data[\"tweet\"] = data[\"tweet\"].str.replace(':\\*\\)', ' happy kiss ')\n",
    "    data[\"tweet\"] = data[\"tweet\"].str.replace(':\\*\\{ \\}', kiss)\n",
    "    data[\"tweet\"] = data[\"tweet\"].str.replace(':\\*p', kiss)\n",
    "    data[\"tweet\"] = data[\"tweet\"].str.replace(':\\*', kiss)\n",
    "    data[\"tweet\"] = data[\"tweet\"].str.replace(': \\*', kiss)\n",
    "    \n",
    "    #smiley happy\n",
    "    data[\"tweet\"] = data[\"tweet\"].str.replace(\"\"\":'\\)\"\"\", happy)\n",
    "    data[\"tweet\"] = data[\"tweet\"].str.replace('8\\)', happy)\n",
    "    data[\"tweet\"] = data[\"tweet\"].str.replace(' 8d ', happy) # ' 8d ' and not '8d' bc of 8days...\n",
    "    data[\"tweet\"] = data[\"tweet\"].str.replace(':}', happy)\n",
    "    data[\"tweet\"] = data[\"tweet\"].str.replace('{:', happy)\n",
    "    data[\"tweet\"] = data[\"tweet\"].str.replace(': \\)', happy)\n",
    "    data[\"tweet\"] = data[\"tweet\"].str.replace('\\( :', happy)\n",
    "    data[\"tweet\"] = data[\"tweet\"].str.replace(':\\)', happy)\n",
    "    data[\"tweet\"] = data[\"tweet\"].str.replace('\\(:', happy)\n",
    "    data[\"tweet\"] = data[\"tweet\"].str.replace('=\\)', happy) #important one\n",
    "    data[\"tweet\"] = data[\"tweet\"].str.replace('\\(=', happy)\n",
    "    \n",
    "    #smiley sad\n",
    "    data[\"tweet\"] = data[\"tweet\"].str.replace('=\\(', sad) #important one\n",
    "    data[\"tweet\"] = data[\"tweet\"].str.replace('\\)=', sad)\n",
    "    data[\"tweet\"] = data[\"tweet\"].str.replace(':c', sad)\n",
    "    data[\"tweet\"] = data[\"tweet\"].str.replace(':\\(', sad)\n",
    "    data[\"tweet\"] = data[\"tweet\"].str.replace('p:', sad)\n",
    "    \n",
    "    return data"
   ]
  },
  {
   "cell_type": "code",
   "execution_count": 91,
   "metadata": {},
   "outputs": [],
   "source": [
    "#=======================================================================================\n",
    "#just to check it works\n",
    "#DO NOT COMPUTE THIS CELL TO COMPUTE THE PREPROCESSED DATA FILES\n",
    "#=======================================================================================\n",
    "\n",
    "#To check the kiss smiley\n",
    "pos.tweet[0] = \"A is :*(     B is :')     C is <3\"\n",
    "pos.tweet[1] = \"D is :*)     E is :*{ }   F is :*( { } )\"\n",
    "pos.tweet[2] = \"G is :*p     H is :*      I is : *\"\n",
    "\n",
    "#to check the happy smiley\n",
    "pos.tweet[3] = \"A is :')'     B is 8)      C is 8d \"\n",
    "pos.tweet[4] = \"D is : )      E is :)      F is ( :\"\n",
    "pos.tweet[5] = \"G is (:       H is LOL     I is :}\"\n",
    "pos.tweet[6] = \"J is {:       K is =)      L is (=\"\n",
    "\n",
    "#To check the sad smiley\n",
    "pos.tweet[7] = \"SAD : A is =(     B is )=     C is :c\"\n",
    "pos.tweet[8] = \"SAD : D is :(     E is p:     F is NOTHING\"\n",
    "\n",
    "\n",
    "train_pos_preprocessed = pre_process_tweets(pos)\n",
    "train_neg_preprocessed = pre_process_tweets(neg)\n",
    "\n",
    "#train_pos_preprocessed.tweet[0:10]"
   ]
  },
  {
   "cell_type": "code",
   "execution_count": 101,
   "metadata": {},
   "outputs": [],
   "source": [
    "#================================================\n",
    "# COMPUTATION : CREATE OUR PRE_PROCESS FILES !!!\n",
    "#================================================\n",
    "\n",
    "train_pos_preprocessed = pre_process_tweets(pos)\n",
    "train_neg_preprocessed = pre_process_tweets(neg)\n",
    "\n",
    "train_pos_preprocessed.to_csv('twitter-datasets/train_pos_preprocessed_smiley_hashtag.txt', header=None, index=False, sep='\\t')\n",
    "train_neg_preprocessed.to_csv('twitter-datasets/train_neg_preprocessed_smiley_hashtag.txt', header=None, index=False, sep='\\t')"
   ]
  },
  {
   "cell_type": "code",
   "execution_count": 102,
   "metadata": {},
   "outputs": [],
   "source": [
    "test_preprocessed = pre_process_tweets(test_pd)\n",
    "test_preprocessed.to_csv('twitter-datasets/test_preprocessed_smiley_hashtag.txt', header=None, index=False, sep='\\t')"
   ]
  },
  {
   "cell_type": "code",
   "execution_count": 1,
   "metadata": {},
   "outputs": [
    {
     "ename": "NameError",
     "evalue": "name 'train_pos_preprocessed' is not defined",
     "output_type": "error",
     "traceback": [
      "\u001b[1;31m---------------------------------------------------------------------------\u001b[0m",
      "\u001b[1;31mNameError\u001b[0m                                 Traceback (most recent call last)",
      "\u001b[1;32m<ipython-input-1-99601c0445a3>\u001b[0m in \u001b[0;36m<module>\u001b[1;34m()\u001b[0m\n\u001b[1;32m----> 1\u001b[1;33m \u001b[0mtrain_pos_preprocessed\u001b[0m\u001b[1;33m\u001b[0m\u001b[0m\n\u001b[0m",
      "\u001b[1;31mNameError\u001b[0m: name 'train_pos_preprocessed' is not defined"
     ]
    }
   ],
   "source": [
    "#train_pos_preprocessed"
   ]
  }
 ],
 "metadata": {
  "kernelspec": {
   "display_name": "Python 3",
   "language": "python",
   "name": "python3"
  },
  "language_info": {
   "codemirror_mode": {
    "name": "ipython",
    "version": 3
   },
   "file_extension": ".py",
   "mimetype": "text/x-python",
   "name": "python",
   "nbconvert_exporter": "python",
   "pygments_lexer": "ipython3",
   "version": "3.6.5"
  }
 },
 "nbformat": 4,
 "nbformat_minor": 2
}
