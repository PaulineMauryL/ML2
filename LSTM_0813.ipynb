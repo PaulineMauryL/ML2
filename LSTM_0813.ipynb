{
 "cells": [
  {
   "cell_type": "code",
   "execution_count": 2,
   "metadata": {},
   "outputs": [],
   "source": [
    "%load_ext autoreload\n",
    "%autoreload 2\n",
    "%matplotlib inline"
   ]
  },
  {
   "cell_type": "code",
   "execution_count": 3,
   "metadata": {},
   "outputs": [
    {
     "name": "stderr",
     "output_type": "stream",
     "text": [
      "Using TensorFlow backend.\n"
     ]
    }
   ],
   "source": [
    "import numpy as np\n",
    "import pandas as pd\n",
    "from plots_file import *\n",
    "from our_functionsv3 import *\n",
    "\n",
    "np.random.seed(0)\n",
    "import tensorflow.keras as keras\n",
    "from keras.models import Model\n",
    "from keras.layers import Dense, Input, Dropout, LSTM, Activation\n",
    "from keras.layers.embeddings import Embedding\n",
    "from keras.preprocessing import sequence\n",
    "from keras.initializers import glorot_uniform\n",
    "from keras.callbacks import EarlyStopping\n",
    "import time\n",
    "import matplotlib\n",
    "import matplotlib.pyplot as plt"
   ]
  },
  {
   "cell_type": "markdown",
   "metadata": {},
   "source": [
    "# Here the things to change to get the different models"
   ]
  },
  {
   "cell_type": "code",
   "execution_count": 1,
   "metadata": {},
   "outputs": [],
   "source": [
    "# Change this paths to change the preprocessing data we want to use\n",
    "\n",
    "train_pos_data = \"twitter-datasets/train_pos_preprocessed_to_use.txt\"\n",
    "train_neg_data = \"twitter-datasets/train_neg_preprocessed_to_use.txt\"\n",
    "test_data = \"twitter-datasets/test_preprocessed_to_use.txt\""
   ]
  },
  {
   "cell_type": "code",
   "execution_count": 4,
   "metadata": {},
   "outputs": [],
   "source": [
    "#word_to_index, index_to_word, word_to_vec_map = read_glove_vecs('dictionnary/glove.6B.50d.txt')\n",
    "\n",
    "# if we want to use twitter dictionnary, we must get the non-alphabetic words out\n",
    "word_to_index, index_to_word, word_to_vec_map = read_glove_vecs_only_alpha('dictionnary/glove.twitter.27B.200d.txt')"
   ]
  },
  {
   "cell_type": "markdown",
   "metadata": {},
   "source": [
    "## Then here the things to run to get the model"
   ]
  },
  {
   "cell_type": "code",
   "execution_count": 5,
   "metadata": {},
   "outputs": [],
   "source": [
    "X_train, Y_train = get_data(pos = train_pos_data, neg = train_neg_data)"
   ]
  },
  {
   "cell_type": "code",
   "execution_count": 6,
   "metadata": {},
   "outputs": [],
   "source": [
    "Y_train_oh = convert_to_one_hot(Y_train, C=2)"
   ]
  },
  {
   "cell_type": "code",
   "execution_count": 7,
   "metadata": {},
   "outputs": [],
   "source": [
    "X_train_tab = np.asarray(X_train)"
   ]
  },
  {
   "cell_type": "code",
   "execution_count": 8,
   "metadata": {},
   "outputs": [],
   "source": [
    "size = []\n",
    "for elem in X_train:\n",
    "    size.append(len(elem.split()))\n",
    "max_length = max(size)"
   ]
  },
  {
   "cell_type": "code",
   "execution_count": 9,
   "metadata": {},
   "outputs": [
    {
     "data": {
      "text/plain": [
       "45"
      ]
     },
     "execution_count": 9,
     "metadata": {},
     "output_type": "execute_result"
    }
   ],
   "source": [
    "max_length"
   ]
  },
  {
   "cell_type": "code",
   "execution_count": 10,
   "metadata": {},
   "outputs": [],
   "source": [
    "ids, _ = get_test_data(\"twitter-datasets/test_data.txt\")\n",
    "X_test = read_data(test_data)"
   ]
  },
  {
   "cell_type": "code",
   "execution_count": 11,
   "metadata": {},
   "outputs": [
    {
     "data": {
      "text/plain": [
       "['sea doo pro sea scooter sports portable seascootersave air stay longer water url',\n",
       " 'user shucks well work week ca come cheer oh put batteries calculator',\n",
       " 'cant stay away bug thats baby',\n",
       " 'user lol im perfectly fine contagious anymore lmao',\n",
       " 'whenever fall asleep watching tv always wake headache',\n",
       " 'user needs get rid thing scares lol need car either needs drivers ed',\n",
       " 'whatever terrible mood',\n",
       " 'yesss rt user user thanks jordan love gon na call later',\n",
       " 'friend user text check last night',\n",
       " 'user followback please ur unitytour come europe sweden',\n",
       " 'watch dumb asses get lock today',\n",
       " 'obsessed phasell user killed best album ever love yew roycee rt',\n",
       " 'user robert de niro gay name like lewy understand hahahahha sherlock',\n",
       " 'user canada grade since grade sucks',\n",
       " 'user please say hi denmark would amazing user live url',\n",
       " 'finally home',\n",
       " 'custom picture frame poster frame wide complete gold frame frame manufactured url',\n",
       " 'new followers mention followback boo',\n",
       " 'user yep looks like best team stay proper form see bit',\n",
       " 'nhl bettman suspension criticism gamesmanship associated press new york ap nhl url predators nhl']"
      ]
     },
     "execution_count": 11,
     "metadata": {},
     "output_type": "execute_result"
    }
   ],
   "source": [
    "X_test[0:20]"
   ]
  },
  {
   "cell_type": "code",
   "execution_count": 12,
   "metadata": {},
   "outputs": [],
   "source": [
    "X_test = np.asarray(X_test)"
   ]
  },
  {
   "cell_type": "markdown",
   "metadata": {},
   "source": [
    "for word, index in word_to_index.items():\n",
    "    if(len(word_to_vec_map[word]) != 50):\n",
    "        print(index)\n",
    "        print(word)\n",
    "        print(len(word_to_vec_map[word]))"
   ]
  },
  {
   "cell_type": "markdown",
   "metadata": {},
   "source": [
    "### Converts an array of sentences (strings) into an array of indices corresponding to words in the sentences"
   ]
  },
  {
   "cell_type": "code",
   "execution_count": 13,
   "metadata": {},
   "outputs": [],
   "source": [
    "def sentences_to_indices(X, word_to_index, max_length):\n",
    "    \"\"\"\n",
    "    Converts an array of sentences (strings) into an array of indices corresponding to words in the sentences.\n",
    "    The output shape should be such that it can be given to `Embedding()` (described in Figure 4). \n",
    "    \n",
    "    Arguments:\n",
    "    X -- array of sentences (strings), of shape (m, 1)\n",
    "    word_to_index -- a dictionary containing the each word mapped to its index\n",
    "    max_len -- maximum number of words in a sentence. You can assume every sentence in X is no longer than this. \n",
    "    \n",
    "    Returns:\n",
    "    X_indices -- array of indices corresponding to words in the sentences from X, of shape (m, max_len)\n",
    "    \"\"\"    \n",
    "    m = len(X)                                   # number of training examples\n",
    "\n",
    "    # Initialize X_indices as a numpy matrix of zeros and the correct shape (≈ 1 line)\n",
    "    X_indices = np.zeros((m, max_length))\n",
    "    \n",
    "    for i in range(m):                               # loop over training examples        \n",
    "        # Convert the ith training sentence in lower case and split is into words. You should get a list of words.\n",
    "        sentence_words = [x.lower() for x in X[i].split()]\n",
    "        \n",
    "        # Initialize j to 0\n",
    "        j = 0\n",
    "        \n",
    "        # Loop over the words of sentence_words\n",
    "        for w in sentence_words:\n",
    "            if w in word_to_index.keys():\n",
    "            # Set the (i,j)th entry of X_indices to the index of the correct word.\n",
    "                X_indices[i, j] = word_to_index[w]\n",
    "                j = j + 1\n",
    "            else:\n",
    "                pass\n",
    "                #X_indices[i, j] = -1   #si il ne connait pas le mot il met -1, voir comment on gère ça après\n",
    "                # Increment j to j + 1\n",
    "                #print(\"{}   not in twitter dataset\".format(w))\n",
    "            #j = j + 1\n",
    "        '''    \n",
    "        # Loop over the words of sentence_words\n",
    "        for w in sentence_words:\n",
    "            # Set the (i,j)th entry of X_indices to the index of the correct word.\n",
    "            X_indices[i, j] = word_to_index[w]\n",
    "            # Increment j to j + 1\n",
    "            j = j+1\n",
    "        '''\n",
    "    return X_indices"
   ]
  },
  {
   "cell_type": "code",
   "execution_count": 14,
   "metadata": {},
   "outputs": [],
   "source": [
    "X_train_indices = sentences_to_indices(X_train, word_to_index, max_length)"
   ]
  },
  {
   "cell_type": "code",
   "execution_count": 15,
   "metadata": {},
   "outputs": [],
   "source": [
    "X_test_indices = sentences_to_indices(X_test, word_to_index, max_length)"
   ]
  },
  {
   "cell_type": "code",
   "execution_count": 16,
   "metadata": {
    "scrolled": true
   },
   "outputs": [
    {
     "data": {
      "text/plain": [
       "array([[514812., 155652., 468829., 514812., 513981., 543481., 462910.,\n",
       "         12587., 545904., 328613., 618430., 600219.,      0.,      0.,\n",
       "             0.,      0.,      0.,      0.,      0.,      0.,      0.,\n",
       "             0.,      0.,      0.,      0.,      0.,      0.,      0.,\n",
       "             0.,      0.,      0.,      0.,      0.,      0.,      0.,\n",
       "             0.,      0.,      0.,      0.,      0.,      0.,      0.,\n",
       "             0.,      0.,      0.],\n",
       "       [600663., 527070., 620195., 625599., 619629.,  85075., 110015.,\n",
       "         99180., 424123., 474974.,  52775.,  86910.,      0.,      0.,\n",
       "             0.,      0.,      0.,      0.,      0.,      0.,      0.,\n",
       "             0.,      0.,      0.,      0.,      0.,      0.,      0.,\n",
       "             0.,      0.,      0.,      0.,      0.,      0.,      0.,\n",
       "             0.,      0.,      0.,      0.,      0.,      0.,      0.,\n",
       "             0.,      0.,      0.]])"
      ]
     },
     "execution_count": 16,
     "metadata": {},
     "output_type": "execute_result"
    }
   ],
   "source": [
    "X_test_indices[0:2]"
   ]
  },
  {
   "cell_type": "code",
   "execution_count": 17,
   "metadata": {},
   "outputs": [
    {
     "name": "stdout",
     "output_type": "stream",
     "text": [
      "X1 = ['missing much time school omg never ill wan na get better', 'user thanks follow', 'chucky collection child play child play bride chucky dvd url']\n",
      "X1_indices = [[361524. 369840. 575913. 513366. 427609. 385173. 257904. 617401. 375525.\n",
      "  216505.  62887.      0.      0.      0.      0.      0.      0.      0.\n",
      "       0.      0.      0.      0.      0.      0.      0.      0.      0.\n",
      "       0.      0.      0.      0.      0.      0.      0.      0.      0.\n",
      "       0.      0.      0.      0.      0.      0.      0.      0.      0.]\n",
      " [600663. 572332. 200178.      0.      0.      0.      0.      0.      0.\n",
      "       0.      0.      0.      0.      0.      0.      0.      0.      0.\n",
      "       0.      0.      0.      0.      0.      0.      0.      0.      0.\n",
      "       0.      0.      0.      0.      0.      0.      0.      0.      0.\n",
      "       0.      0.      0.      0.      0.      0.      0.      0.      0.]\n",
      " [102535. 109240. 100494. 458176. 100494. 458176.  77251. 102535. 161672.\n",
      "  600219.      0.      0.      0.      0.      0.      0.      0.      0.\n",
      "       0.      0.      0.      0.      0.      0.      0.      0.      0.\n",
      "       0.      0.      0.      0.      0.      0.      0.      0.      0.\n",
      "       0.      0.      0.      0.      0.      0.      0.      0.      0.]]\n"
     ]
    }
   ],
   "source": [
    "X1_indices = sentences_to_indices(X_train[0:3],word_to_index, max_length)\n",
    "print(\"X1 =\", X_train[0:3])\n",
    "print(\"X1_indices =\", X1_indices)"
   ]
  },
  {
   "cell_type": "markdown",
   "metadata": {},
   "source": [
    "### Embedding() layer in Keras\n",
    "- input:    output of sentences_to_indices()\n",
    "- output:   word embeddings for a sentence"
   ]
  },
  {
   "cell_type": "code",
   "execution_count": 18,
   "metadata": {},
   "outputs": [],
   "source": [
    "def pretrained_embedding_layer(word_to_vec_map, word_to_index):\n",
    "    \"\"\"\n",
    "    Creates a Keras Embedding() layer and loads in pre-trained GloVe 50-dimensional vectors.\n",
    "    \n",
    "    Arguments:\n",
    "    word_to_vec_map -- dictionary mapping words to their GloVe vector representation.\n",
    "    word_to_index -- dictionary mapping from words to their indices in the vocabulary (400,001 words)\n",
    "\n",
    "    Returns:\n",
    "    embedding_layer -- pretrained layer Keras instance\n",
    "    \"\"\"\n",
    "    \n",
    "    vocab_len = len(word_to_index) + 1                  # adding 1 to fit Keras embedding (requirement)\n",
    "    #print(vocab_len)\n",
    "    emb_dim = word_to_vec_map[\"cucumber\"].shape[0]      # define dimensionality of your GloVe word vectors (= 50)\n",
    "    \n",
    "    # Initialize the embedding matrix as a numpy array of zeros of shape (vocab_len, dimensions of word vectors = emb_dim)\n",
    "    emb_matrix = np.zeros((vocab_len, emb_dim))\n",
    "    #print(emb_matrix.shape)\n",
    "    \n",
    "    # Set each row \"index\" of the embedding matrix to be the word vector representation of the \"index\"th word of the vocabulary\n",
    "    #print(len(word_to_index  ))\n",
    "    #print(len(word_to_vec_map))\n",
    "    for word, index in word_to_index.items():\n",
    "        emb_matrix[index, :] = word_to_vec_map[word]\n",
    "\n",
    "    # Define Keras embedding layer with the correct output/input sizes, make it trainable. Use Embedding(...). Make sure to set trainable=False. \n",
    "    embedding_layer = Embedding(vocab_len, emb_dim, trainable = False) \n",
    "\n",
    "    # Build the embedding layer, it is required before setting the weights of the embedding layer. Do not modify the \"None\".\n",
    "    embedding_layer.build((None,))\n",
    "    \n",
    "    # Set the weights of the embedding layer to the embedding matrix. Your layer is now pretrained.\n",
    "    embedding_layer.set_weights([emb_matrix])\n",
    "    \n",
    "    return embedding_layer"
   ]
  },
  {
   "cell_type": "code",
   "execution_count": 19,
   "metadata": {},
   "outputs": [
    {
     "name": "stdout",
     "output_type": "stream",
     "text": [
      "weights[0][1][3] = 0.40882\n"
     ]
    }
   ],
   "source": [
    "#erreur peut etre due au fait que j'ai du enlever word_to_vec_map['0.45973'] (voir au dessus)\n",
    "embedding_layer = pretrained_embedding_layer(word_to_vec_map, word_to_index)\n",
    "print(\"weights[0][1][3] =\", embedding_layer.get_weights()[0][1][3])"
   ]
  },
  {
   "cell_type": "markdown",
   "metadata": {},
   "source": [
    "### LSTM layers\n",
    "- input:  array of sentences of shape (m, max_len, ) \n",
    "- output: softmax probability vector of shape (m, C = 2)"
   ]
  },
  {
   "cell_type": "code",
   "execution_count": 20,
   "metadata": {},
   "outputs": [],
   "source": [
    "#credits of function to http://parneetk.github.io/blog/neural-networks-in-keras/\n",
    "def plot_model_history(model_history):\n",
    "    fig, axs = plt.subplots(1,2,figsize=(15,5))\n",
    "    # summarize history for accuracy\n",
    "    axs[0].plot(range(1,len(model_history.history['acc'])+1),model_history.history['acc'])\n",
    "    axs[0].plot(range(1,len(model_history.history['val_acc'])+1),model_history.history['val_acc'])\n",
    "    axs[0].set_title('Model Accuracy')\n",
    "    axs[0].set_ylabel('Accuracy')\n",
    "    axs[0].set_xlabel('Epoch')\n",
    "    axs[0].set_xticks(np.arange(1,len(model_history.history['acc'])+1),len(model_history.history['acc'])/10)\n",
    "    axs[0].legend(['train', 'val'], loc='best')\n",
    "    # summarize history for loss\n",
    "    axs[1].plot(range(1,len(model_history.history['loss'])+1),model_history.history['loss'])\n",
    "    axs[1].plot(range(1,len(model_history.history['val_loss'])+1),model_history.history['val_loss'])\n",
    "    axs[1].set_title('Model Loss')\n",
    "    axs[1].set_ylabel('Loss')\n",
    "    axs[1].set_xlabel('Epoch')\n",
    "    axs[1].set_xticks(np.arange(1,len(model_history.history['loss'])+1),len(model_history.history['loss'])/10)\n",
    "    axs[1].legend(['train', 'val'], loc='best')\n",
    "    plt.savefig('graphs/history_early_stopping_21_11_not_preprocessed.png')\n",
    "    plt.show()\n",
    "    #savefig('history_early_stopping_20_11.png')"
   ]
  },
  {
   "cell_type": "code",
   "execution_count": 21,
   "metadata": {},
   "outputs": [],
   "source": [
    "def smiley_LSTM(input_shape, word_to_vec_map, word_to_index, dropout_rate):\n",
    "    \"\"\"\n",
    "    Function creating the Emojify-v2 model's graph.\n",
    "    \n",
    "    Arguments:\n",
    "    input_shape -- shape of the input, usually (max_len,)\n",
    "    word_to_vec_map -- dictionary mapping every word in a vocabulary into its 50-dimensional vector representation\n",
    "    word_to_index -- dictionary mapping from words to their indices in the vocabulary (400,001 words)\n",
    "\n",
    "    Returns:\n",
    "    model -- a model instance in Keras\n",
    "    \"\"\"\n",
    "    \n",
    "    # Define sentence_indices as the input of the graph, it should be of shape input_shape and dtype 'int32' (as it contains indices).\n",
    "    sentence_indices = Input(shape = input_shape, dtype = 'int32')\n",
    "    \n",
    "    # Create the embedding layer pretrained with GloVe Vectors (≈1 line)\n",
    "    embedding_layer = pretrained_embedding_layer(word_to_vec_map, word_to_index)\n",
    "    \n",
    "    # Propagate sentence_indices through your embedding layer, you get back the embeddings\n",
    "    embeddings = embedding_layer(sentence_indices)\n",
    "    \n",
    "    # Propagate the embeddings through an LSTM layer with 128-dimensional hidden state\n",
    "    # Be careful, the returned output should be a batch of sequences.\n",
    "    X = LSTM(128, return_sequences = True)(embeddings)\n",
    "    \n",
    "    # Add dropout with a probability of 0.5\n",
    "    X = Dropout(dropout_rate)(X)\n",
    "    \n",
    "    # Propagate X trough another LSTM layer with 128-dimensional hidden state\n",
    "    # Be careful, the returned output should be a single hidden state, not a batch of sequences.\n",
    "    X = LSTM(128, return_sequences = False, return_state = False)(X)\n",
    "    \n",
    "    # Add dropout with a probability of 0.5\n",
    "    X = Dropout(dropout_rate)(X)\n",
    "    \n",
    "    # Propagate X through a Dense layer with softmax activation to get back a batch of 2-dimensional vectors.\n",
    "    X = Dense(2)(X)\n",
    "    \n",
    "    # Add a softmax activation\n",
    "    X = Activation('softmax')(X)\n",
    "\n",
    "    # Create Model instance which converts sentence_indices into X.\n",
    "    model = Model(inputs = sentence_indices, outputs = X)\n",
    "    \n",
    "    return model"
   ]
  },
  {
   "cell_type": "code",
   "execution_count": 22,
   "metadata": {},
   "outputs": [],
   "source": [
    "def complete_model(word_to_vec_map, word_to_index, max_length, summary = False, dropout_rate = 0.5, batch_size = 128, \n",
    "                   epochs = 50, loss ='categorical_crossentropy', optimizer ='adam'):\n",
    "    \n",
    "    model = smiley_LSTM((max_length,), word_to_vec_map, word_to_index, dropout_rate)\n",
    "    \n",
    "    if summary:\n",
    "        model.summary()\n",
    "        \n",
    "    model.compile(loss=loss, optimizer=optimizer, metrics=['accuracy'])\n",
    "    \n",
    "    earlystop = EarlyStopping(monitor='val_acc', min_delta=0.0001, patience=3, verbose=1, mode='auto')\n",
    "    callbacks_list = [earlystop]\n",
    "    \n",
    "    start = time.time()\n",
    "    history_lstm = model.fit(X_train_indices, Y_train_oh, epochs = 50, callbacks=callbacks_list, batch_size = 32, validation_split = 0.1, shuffle=True)\n",
    "    end = time.time()\n",
    "    print(\"Model took {} seconds (which is {} minutes or {} hours) to train\".format((end - start), (end - start)/60, (end - start)/3600))\n",
    "    \n",
    "    return history_lstm, model"
   ]
  },
  {
   "cell_type": "code",
   "execution_count": 23,
   "metadata": {
    "scrolled": true
   },
   "outputs": [
    {
     "name": "stdout",
     "output_type": "stream",
     "text": [
      "Train on 180000 samples, validate on 20000 samples\n",
      "Epoch 1/50\n",
      "180000/180000 [==============================] - 620s 3ms/step - loss: 0.4345 - acc: 0.7936 - val_loss: 0.4070 - val_acc: 0.8134\n",
      "Epoch 2/50\n",
      "180000/180000 [==============================] - 576s 3ms/step - loss: 0.3944 - acc: 0.8154 - val_loss: 0.3927 - val_acc: 0.8159\n",
      "Epoch 3/50\n",
      "180000/180000 [==============================] - 603s 3ms/step - loss: 0.3856 - acc: 0.8194 - val_loss: 0.3891 - val_acc: 0.8183\n",
      "Epoch 4/50\n",
      "180000/180000 [==============================] - 595s 3ms/step - loss: 0.3637 - acc: 0.8311 - val_loss: 0.3929 - val_acc: 0.8228\n",
      "Epoch 5/50\n",
      "180000/180000 [==============================] - 595s 3ms/step - loss: 0.3438 - acc: 0.8409 - val_loss: 0.3871 - val_acc: 0.8234\n",
      "Epoch 6/50\n",
      "180000/180000 [==============================] - 597s 3ms/step - loss: 0.3191 - acc: 0.8542 - val_loss: 0.3964 - val_acc: 0.8236\n",
      "Epoch 7/50\n",
      "180000/180000 [==============================] - 603s 3ms/step - loss: 0.2927 - acc: 0.8676 - val_loss: 0.4071 - val_acc: 0.8209\n",
      "Epoch 8/50\n",
      "180000/180000 [==============================] - 719s 4ms/step - loss: 0.2690 - acc: 0.8796 - val_loss: 0.4251 - val_acc: 0.8175\n",
      "Epoch 9/50\n",
      "180000/180000 [==============================] - 831s 5ms/step - loss: 0.2444 - acc: 0.8920 - val_loss: 0.4582 - val_acc: 0.8184\n",
      "Epoch 00009: early stopping\n",
      "Model took 5741.392455101013 seconds (which is 95.68987425168355 minutes or 1.594831237528059 hours) to train\n"
     ]
    }
   ],
   "source": [
    "history, model = complete_model(word_to_vec_map, word_to_index, max_length, summary = False, dropout_rate = 0.25, batch_size = 128, \n",
    "                                     epochs = 30, loss ='categorical_crossentropy', optimizer ='adam')\n",
    "# model.save_weights(\"models/model_name.h5\")   #fill good value"
   ]
  },
  {
   "cell_type": "markdown",
   "metadata": {},
   "source": [
    "### Submission"
   ]
  },
  {
   "cell_type": "code",
   "execution_count": 24,
   "metadata": {},
   "outputs": [],
   "source": [
    "def predict_lstm(model, X_test_indices):\n",
    "    y_pred = model.predict(X_test_indices)\n",
    "    label = np.zeros([X_test_indices.shape[0], 1])\n",
    "    \n",
    "    for i in range(len(X_test_indices)):\n",
    "        label[i] = np.argmax(y_pred[i])\n",
    "    label[label == 0] = -1\n",
    "    return label"
   ]
  },
  {
   "cell_type": "code",
   "execution_count": 25,
   "metadata": {},
   "outputs": [],
   "source": [
    "label = predict_lstm(model, X_test_indices)"
   ]
  },
  {
   "cell_type": "code",
   "execution_count": 26,
   "metadata": {
    "scrolled": true
   },
   "outputs": [],
   "source": [
    "create_csv_submission(ids, label, 'submissions/submission_model_twitter200_2611.csv')"
   ]
  },
  {
   "cell_type": "code",
   "execution_count": null,
   "metadata": {},
   "outputs": [],
   "source": []
  }
 ],
 "metadata": {
  "kernelspec": {
   "display_name": "Python 3",
   "language": "python",
   "name": "python3"
  },
  "language_info": {
   "codemirror_mode": {
    "name": "ipython",
    "version": 3
   },
   "file_extension": ".py",
   "mimetype": "text/x-python",
   "name": "python",
   "nbconvert_exporter": "python",
   "pygments_lexer": "ipython3",
   "version": "3.6.5"
  }
 },
 "nbformat": 4,
 "nbformat_minor": 2
}
