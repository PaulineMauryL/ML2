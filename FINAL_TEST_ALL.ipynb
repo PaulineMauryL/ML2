{
 "cells": [
  {
   "cell_type": "code",
   "execution_count": 67,
   "metadata": {},
   "outputs": [
    {
     "name": "stdout",
     "output_type": "stream",
     "text": [
      "The autoreload extension is already loaded. To reload it, use:\n",
      "  %reload_ext autoreload\n"
     ]
    }
   ],
   "source": [
    "%load_ext autoreload\n",
    "%autoreload 2\n",
    "%matplotlib inline"
   ]
  },
  {
   "cell_type": "code",
   "execution_count": 74,
   "metadata": {},
   "outputs": [],
   "source": [
    "from preprocessing import full_preprocessing"
   ]
  },
  {
   "cell_type": "code",
   "execution_count": 76,
   "metadata": {},
   "outputs": [],
   "source": [
    "X_train, Y_train, Y_train_oh, ids, X_test = full_preprocessing()"
   ]
  },
  {
   "cell_type": "code",
   "execution_count": 77,
   "metadata": {},
   "outputs": [
    {
     "name": "stdout",
     "output_type": "stream",
     "text": [
      "['i m missing so much time off school but omg i ve never been so ill just wan na get better now', 'user no thanks for the follow', 'the chucky collection child s play child s play bride of chucky dvd url', 'user oh no that means that weather radio may be going off a lot and scaring the crap out of us'] \n",
      "\n",
      "[0 1 0 0] \n",
      "\n",
      "[[1. 0.]\n",
      " [0. 1.]\n",
      " [1. 0.]\n",
      " [1. 0.]] \n",
      "\n",
      "['1', '2', '3', '4'] \n",
      "\n",
      "['sea doo pro sea scooter sports with the portable seascootersave air stay longer in the water and url', 'user shucks well i work all week so now i ca not come cheer you on oh and put those batteries in your calculator', 'i cant stay away from bug thats my baby', 'user no lol im perfectly fine and not contagious anymore lmao'] \n",
      "\n",
      "<class 'numpy.ndarray'>\n",
      "<class 'numpy.ndarray'>\n",
      "<class 'list'>\n"
     ]
    }
   ],
   "source": [
    "# JE TESTE MA FONCTION full_preprocessing ICI\n",
    "\n",
    "print(X_train[0:4], \"\\n\")\n",
    "print(Y_train[0:4], \"\\n\")\n",
    "print(Y_train_oh[0:4], \"\\n\")\n",
    "print(ids[0:4], \"\\n\")\n",
    "print(X_test[0:4], \"\\n\")\n",
    "\n",
    "print(type(Y_train_oh))\n",
    "print(type(Y_train))\n",
    "print(type(X_train))"
   ]
  },
  {
   "cell_type": "code",
   "execution_count": 47,
   "metadata": {},
   "outputs": [],
   "source": [
    "#============================================================================\n",
    "#============================================================================\n",
    "####################### LA JE FAIS STEP BY STEP #############################\n",
    "#============================================================================\n",
    "#============================================================================\n",
    "\n",
    "from preprocessing import *\n",
    "from our_functionsv3 import convert_to_one_hot, get_test_data\n",
    "\n",
    "path_pos = \"twitter-datasets/train_pos.txt\"\n",
    "path_neg = \"twitter-datasets/train_neg.txt\"\n",
    "path_test = \"twitter-datasets/test_data.txt\"\n",
    "\n",
    "train_pos = read_data(path_pos)\n",
    "train_neg = read_data(path_neg)\n",
    "\n",
    "pos = pd.DataFrame(train_pos, columns=[\"tweet\"])\n",
    "neg = pd.DataFrame(train_neg, columns=[\"tweet\"])\n",
    "\n",
    "test = read_data(path_test)\n",
    "test_pd = pd.DataFrame(test, columns=[\"tweet\"])\n",
    "\n",
    "train_pos_preprocessed = pre_process_tweets(pos)\n",
    "train_neg_preprocessed = pre_process_tweets(neg)\n",
    "\n",
    "################# SECOND PART ############\n",
    "\n",
    "X_pos = list(train_pos_preprocessed.tweet)\n",
    "X_neg = list(train_neg_preprocessed.tweet)\n",
    "X_train = X_pos + X_neg\n",
    "\n",
    "Y_pos = np.ones(len(X_pos), dtype = int)\n",
    "Y_neg = np.zeros(len(X_neg), dtype = int)\n",
    "Y_train = np.concatenate((Y_pos, Y_neg), axis = -1)\n",
    "\n",
    "X_train, Y_train = shuffle(X_train, Y_train, random_state=52) #shuffle our training set\n",
    "Y_train_oh = convert_to_one_hot(Y_train, C=2)\n",
    "\n",
    "ids, _ = get_test_data(path_test)\n",
    "\n",
    "\n",
    "test_preprocessed = pre_process_tweets(test_pd)\n",
    "X_test = list(test_preprocessed.tweet)\n"
   ]
  },
  {
   "cell_type": "code",
   "execution_count": 49,
   "metadata": {},
   "outputs": [
    {
     "data": {
      "text/plain": [
       "['sea doo pro sea scooter sports with the portable seascootersave air stay longer in the water and url',\n",
       " 'user shucks well i work all week so now i ca not come cheer you on oh and put those batteries in your calculator',\n",
       " 'i cant stay away from bug thats my baby',\n",
       " 'user no lol im perfectly fine and not contagious anymore lmao',\n",
       " 'whenever i fall asleep watching the tv i always wake up with a headache',\n",
       " 'user he needs to get rid of that thing it scares me lol but he do not need a car either he needs drivers ed again',\n",
       " 'its whatever in a terrible mood',\n",
       " 'yesss rt user user thanks jordan i love you and i m gon na call you later']"
      ]
     },
     "execution_count": 49,
     "metadata": {},
     "output_type": "execute_result"
    }
   ],
   "source": [
    "######################## JE CHECK SI MA FONCTION A L'AIR OK !!!\n",
    "X_train[0:4]\n",
    "Y_train[0:4]\n",
    "Y_train_oh[0:4]\n",
    "X_test[0:8]"
   ]
  },
  {
   "cell_type": "code",
   "execution_count": 16,
   "metadata": {},
   "outputs": [
    {
     "data": {
      "text/plain": [
       "str"
      ]
     },
     "execution_count": 16,
     "metadata": {},
     "output_type": "execute_result"
    }
   ],
   "source": [
    "type(train_pos_preprocessed)\n",
    "train_pos_preprocessed.tweet[0:4]\n",
    "type(train_pos_preprocessed.tweet[0])"
   ]
  },
  {
   "cell_type": "code",
   "execution_count": 26,
   "metadata": {},
   "outputs": [
    {
     "data": {
      "text/plain": [
       "['user i dunno justin read my mention or not only justin and god knows about that but i hope you will follow me #believe',\n",
       " 'because your logic is so dumb i wo not even crop out your name or your photo tsk url',\n",
       " 'user just put casper in a box looved the battle #crakkbitch',\n",
       " 'user user thanks sir do not trip lil mama just keep doin ya thang',\n",
       " 'visiting my brother tmr is the bestest birthday gift eveerrr',\n",
       " 'user yay #lifecompleted tweet facebook me to let me know please',\n",
       " 'user #1dnextalbumtitle feel for you rollercoaster of life song cocept life #yolo becoming famous #followmeplz',\n",
       " 'workin hard or hardly workin rt user at hardee s with my future coworker user']"
      ]
     },
     "execution_count": 26,
     "metadata": {},
     "output_type": "execute_result"
    }
   ],
   "source": [
    "#################################### LINK BETWEEN PART 1 AND 2 ##################################\n",
    "X_pos_try = list(train_pos_preprocessed.tweet)\n",
    "X_pos_try[0:8]"
   ]
  },
  {
   "cell_type": "code",
   "execution_count": 10,
   "metadata": {},
   "outputs": [],
   "source": [
    "################################### SECOND PART #####################################\n",
    "from our_functionsv3 import read_data\n",
    "from sklearn.utils import shuffle\n",
    "\n",
    "pos = \"twitter-datasets/train_pos_tokenize_not_hash.txt\"\n",
    "neg = \"twitter-datasets/train_neg_tokenize_not_hash.txt\"\n",
    "\n",
    "test_path = \"twitter-datasets/test_preprocessed_tokenize_not_hash.txt\"\n",
    "\n",
    "X_pos = read_data(pos)\n",
    "X_neg = read_data(neg)\n",
    "X_train = X_pos + X_neg\n",
    "\n",
    "Y_pos = np.ones(len(X_pos), dtype = int)\n",
    "Y_neg = np.zeros(len(X_neg), dtype = int)\n",
    "Y_train = np.concatenate((Y_pos, Y_neg), axis = -1)\n",
    "\n",
    "X_train_shuffled, Y_train_shuffled = shuffle(X_train, Y_train, random_state=52)"
   ]
  },
  {
   "cell_type": "code",
   "execution_count": 27,
   "metadata": {},
   "outputs": [
    {
     "data": {
      "text/plain": [
       "['user i dunno justin read my mention or not only justin and god knows about that but i hope you will follow me #believe',\n",
       " 'because your logic is so dumb i wo not even crop out your name or your photo tsk url',\n",
       " 'user just put casper in a box looved the battle #crakkbitch',\n",
       " 'user user thanks sir do not trip lil mama just keep doin ya thang']"
      ]
     },
     "execution_count": 27,
     "metadata": {},
     "output_type": "execute_result"
    }
   ],
   "source": [
    "X_pos[0:4]"
   ]
  }
 ],
 "metadata": {
  "kernelspec": {
   "display_name": "Python 3",
   "language": "python",
   "name": "python3"
  },
  "language_info": {
   "codemirror_mode": {
    "name": "ipython",
    "version": 3
   },
   "file_extension": ".py",
   "mimetype": "text/x-python",
   "name": "python",
   "nbconvert_exporter": "python",
   "pygments_lexer": "ipython3",
   "version": "3.6.5"
  }
 },
 "nbformat": 4,
 "nbformat_minor": 2
}
